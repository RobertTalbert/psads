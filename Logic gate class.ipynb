{
 "cells": [
  {
   "cell_type": "code",
   "execution_count": 6,
   "metadata": {
    "collapsed": true
   },
   "outputs": [],
   "source": [
    "class LogicGate:\n",
    "    \n",
    "    def __init__(self,n):\n",
    "        self.label = n\n",
    "        self.output = None\n",
    "\n",
    "    def getLabel(self):\n",
    "        return self.label\n",
    "\n",
    "    def getOutput(self):\n",
    "        self.output = self.performGateLogic()\n",
    "        return self.output\n",
    "    \n",
    "    \n",
    "class BinaryGate(LogicGate):\n",
    "\n",
    "    def __init__(self,n):\n",
    "        LogicGate.__init__(self,n)\n",
    "\n",
    "        self.pinA = None\n",
    "        self.pinB = None\n",
    "\n",
    "    def getPinA(self):\n",
    "        return int(input(\"Enter Pin A input for gate \"+ self.getLabel()+\"-->\"))\n",
    "\n",
    "    def getPinB(self):\n",
    "        return int(input(\"Enter Pin B input for gate \"+ self.getLabel()+\"-->\"))\n",
    "    \n",
    "    \n",
    "class UnaryGate(LogicGate):\n",
    "\n",
    "    def __init__(self,n):\n",
    "        LogicGate.__init__(self,n)\n",
    "\n",
    "        self.pin = None\n",
    "\n",
    "    def getPin(self):\n",
    "        return int(input(\"Enter Pin input for gate \"+ self.getLabel()+\"-->\"))\n",
    "    \n",
    "    \n",
    "class AndGate(BinaryGate):\n",
    "\n",
    "    def __init__(self,n):\n",
    "        BinaryGate.__init__(self,n)\n",
    "\n",
    "    def performGateLogic(self):\n",
    "\n",
    "        a = self.getPinA()\n",
    "        b = self.getPinB()\n",
    "        if a==1 and b==1:\n",
    "            return 1\n",
    "        else:\n",
    "            return 0\n",
    "        \n",
    "class OrGate(BinaryGate):\n",
    "    def __init__(self,n):\n",
    "        BinaryGate.__init__(self,n)\n",
    "        \n",
    "    def performGateLogic(self):\n",
    "        a = self.getPinA()\n",
    "        b = self.getPinB()\n",
    "        if a == 1 or b == 1:\n",
    "            return 1\n",
    "        else: \n",
    "            return 0\n",
    "        \n",
    "class NotGate(UnaryGate):\n",
    "    def __init__(self,n):\n",
    "        UnaryGate.__init__(self,n)\n",
    "        \n",
    "    def performGateLogic(self):\n",
    "        a = self.getPin()\n",
    "        if a == 0: return 1\n",
    "        else: return 0"
   ]
  },
  {
   "cell_type": "code",
   "execution_count": 3,
   "metadata": {
    "collapsed": true
   },
   "outputs": [],
   "source": [
    "g1 = AndGate(\"G1\")"
   ]
  },
  {
   "cell_type": "code",
   "execution_count": 4,
   "metadata": {},
   "outputs": [
    {
     "name": "stdout",
     "output_type": "stream",
     "text": [
      "Enter Pin A input for gate G1-->1\n",
      "Enter Pin B input for gate G1-->0\n"
     ]
    },
    {
     "data": {
      "text/plain": [
       "0"
      ]
     },
     "execution_count": 4,
     "metadata": {},
     "output_type": "execute_result"
    }
   ],
   "source": [
    "g1.getOutput()"
   ]
  },
  {
   "cell_type": "code",
   "execution_count": 5,
   "metadata": {},
   "outputs": [
    {
     "data": {
      "text/plain": [
       "'G1'"
      ]
     },
     "execution_count": 5,
     "metadata": {},
     "output_type": "execute_result"
    }
   ],
   "source": [
    "g1.getLabel()"
   ]
  },
  {
   "cell_type": "code",
   "execution_count": 7,
   "metadata": {
    "collapsed": true
   },
   "outputs": [],
   "source": [
    "n1 = NotGate(\"N1\")"
   ]
  },
  {
   "cell_type": "code",
   "execution_count": 9,
   "metadata": {},
   "outputs": [
    {
     "name": "stdout",
     "output_type": "stream",
     "text": [
      "Enter Pin input for gate N1-->0\n"
     ]
    },
    {
     "data": {
      "text/plain": [
       "1"
      ]
     },
     "execution_count": 9,
     "metadata": {},
     "output_type": "execute_result"
    }
   ],
   "source": [
    "n1.getOutput()"
   ]
  },
  {
   "cell_type": "code",
   "execution_count": 10,
   "metadata": {
    "collapsed": true
   },
   "outputs": [],
   "source": [
    "# Connector classes\n",
    "\n",
    "class Connector:\n",
    "\n",
    "    def __init__(self, fgate, tgate):\n",
    "        self.fromgate = fgate\n",
    "        self.togate = tgate\n",
    "\n",
    "        tgate.setNextPin(self)\n",
    "\n",
    "    def getFrom(self):\n",
    "        return self.fromgate\n",
    "\n",
    "    def getTo(self):\n",
    "        return self.togate"
   ]
  },
  {
   "cell_type": "code",
   "execution_count": null,
   "metadata": {
    "collapsed": true
   },
   "outputs": [],
   "source": []
  }
 ],
 "metadata": {
  "kernelspec": {
   "display_name": "Python [default]",
   "language": "python",
   "name": "python3"
  },
  "language_info": {
   "codemirror_mode": {
    "name": "ipython",
    "version": 3
   },
   "file_extension": ".py",
   "mimetype": "text/x-python",
   "name": "python",
   "nbconvert_exporter": "python",
   "pygments_lexer": "ipython3",
   "version": "3.5.3"
  }
 },
 "nbformat": 4,
 "nbformat_minor": 2
}
